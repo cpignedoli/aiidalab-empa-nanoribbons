{
 "cells": [
  {
   "cell_type": "markdown",
   "metadata": {},
   "source": [
    "# Submit additional KS for nanoribbon"
   ]
  },
  {
   "cell_type": "code",
   "execution_count": null,
   "metadata": {},
   "outputs": [],
   "source": [
    "%aiida"
   ]
  },
  {
   "cell_type": "code",
   "execution_count": null,
   "metadata": {},
   "outputs": [],
   "source": [
    "# General imports\n",
    "import numpy as np\n",
    "import ipywidgets as ipw\n",
    "from collections import OrderedDict\n",
    "from ase.data import vdw_radii\n",
    "from IPython.display import display, clear_output, HTML\n",
    "import itertools\n",
    "\n",
    "# AiiDA & AiiDA lab imports\n",
    "from aiida.orm import SinglefileData\n",
    "from aiidalab_widgets_base import CodeDropdown, StructureManagerWidget, StructureBrowserWidget, StructureUploadWidget, SubmitButtonWidget, SmilesWidget\n",
    "from aiida.engine import submit\n",
    "\n",
    "# Work Chains\n",
    "KSWorkChain = WorkflowFactory('ksnanoribbon')"
   ]
  },
  {
   "cell_type": "code",
   "execution_count": null,
   "metadata": {},
   "outputs": [],
   "source": [
    "style = {'description_width': '120px'}\n",
    "layout = {'width': '70%'}\n",
    "original_workchain = ipw.Text(description='PK',style={'description_width': '70px'}, layout={'width': '14%'})\n",
    "kpoints = ipw.Text(description='k-points: 1-12 U; 13-24 D',style={'description_width': '70px'}, layout={'width': '14%'})\n",
    "bands = ipw.Text(description='bands: 0 for nel/2',style={'description_width': '70px'}, layout={'width': '14%'})\n",
    "\n",
    "pw_code_dropdown = CodeDropdown(input_plugin='quantumespresso.pw')\n",
    "pp_code_dropdown = CodeDropdown(input_plugin='quantumespresso.pp')\n",
    "\n",
    "\n",
    "display(ipw.VBox([original_workchain,kpoints,bands,pw_code_dropdown,pp_code_dropdown]))"
   ]
  },
  {
   "cell_type": "code",
   "execution_count": null,
   "metadata": {},
   "outputs": [],
   "source": [
    "def on_submit():\n",
    "    with submit_out:\n",
    "        clear_output()\n",
    "        if not pw_code_dropdown.selected_code:\n",
    "            print(\"Please select a pw code.\")\n",
    "            return\n",
    "        if not pp_code_dropdown.selected_code:\n",
    "            print(\"Please select a pp code.\")\n",
    "            return\n",
    "\n",
    "        #pw_code, pp_code, projwfc_code = qe_code_groups[drop_codes.value]\n",
    "        builder = KSWorkChain.get_builder()\n",
    "        builder.pw_code = pw_code_dropdown.selected_code\n",
    "        builder.pp_code = pp_code_dropdown.selected_code\n",
    "        builder.inpkpoints = Str(kpoints.value)\n",
    "        builder.inpbands = Str(bands.value)\n",
    "        builder.workchain = Int(original_workchain.value)\n",
    "        builder.metadata = {\n",
    "            \"description\": 'additional KS',\n",
    "            \"label\": \"KSWorkChain\",\n",
    "        }\n",
    "        return builder"
   ]
  },
  {
   "cell_type": "code",
   "execution_count": null,
   "metadata": {},
   "outputs": [],
   "source": [
    "btn_submit = SubmitButtonWidget(process=KSWorkChain,widgets_values=on_submit)\n",
    "submit_out = ipw.Output()\n",
    "display(btn_submit, submit_out)"
   ]
  }
 ],
 "metadata": {
  "kernelspec": {
   "display_name": "Python 3",
   "language": "python",
   "name": "python3"
  },
  "language_info": {
   "codemirror_mode": {
    "name": "ipython",
    "version": 3
   },
   "file_extension": ".py",
   "mimetype": "text/x-python",
   "name": "python",
   "nbconvert_exporter": "python",
   "pygments_lexer": "ipython3",
   "version": "3.7.4"
  }
 },
 "nbformat": 4,
 "nbformat_minor": 2
}
