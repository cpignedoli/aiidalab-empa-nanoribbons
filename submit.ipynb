{
 "cells": [
  {
   "cell_type": "markdown",
   "metadata": {},
   "source": [
    "# Submit Nanoribbon Workchain"
   ]
  },
  {
   "cell_type": "code",
   "execution_count": null,
   "metadata": {},
   "outputs": [],
   "source": [
    "%aiida"
   ]
  },
  {
   "cell_type": "code",
   "execution_count": null,
   "metadata": {},
   "outputs": [],
   "source": [
    "# General imports\n",
    "import numpy as np\n",
    "import ipywidgets as ipw\n",
    "from collections import OrderedDict\n",
    "from ase.data import vdw_radii\n",
    "from IPython.display import display, clear_output, HTML\n",
    "import itertools\n",
    "\n",
    "# AiiDA & AiiDA lab imports\n",
    "from aiida.orm import SinglefileData\n",
    "\n",
    "from nanoribbon.viewers import Smiles2GNRWidget\n",
    "from aiidalab_widgets_base import CodeDropdown, StructureManagerWidget, StructureBrowserWidget, StructureUploadWidget, SubmitButtonWidget, SmilesWidget\n",
    "from aiida.engine import submit\n",
    "\n",
    "# Work Chains\n",
    "NanoribbonWorkChain = WorkflowFactory('nanoribbon')"
   ]
  },
  {
   "cell_type": "code",
   "execution_count": null,
   "metadata": {},
   "outputs": [],
   "source": [
    "structure_selector = StructureManagerWidget(importers=[\n",
    "    (\"SMILES2GNR\", Smiles2GNRWidget()),\n",
    "    (\"Import from computer\", StructureUploadWidget()),\n",
    "    (\"AiiDA database\", StructureBrowserWidget()),\n",
    "    ],\n",
    "    storable=False,node_class='StructureData')\n",
    "display(structure_selector)"
   ]
  },
  {
   "cell_type": "code",
   "execution_count": null,
   "metadata": {},
   "outputs": [],
   "source": [
    "style = {'description_width': '120px'}\n",
    "layout = {'width': '70%'}\n",
    "\n",
    "pw_code_dropdown = CodeDropdown(input_plugin='quantumespresso.pw')\n",
    "pp_code_dropdown = CodeDropdown(input_plugin='quantumespresso.pp')\n",
    "projwfc_code_dropdown = CodeDropdown(input_plugin='quantumespresso.projwfc')\n",
    "\n",
    "text_calc_description = ipw.Text(description='Calculation Name: ',\n",
    "                          placeholder='A great name.',\n",
    "                          style=style, layout=layout)\n",
    "display(ipw.VBox([pw_code_dropdown,pp_code_dropdown,projwfc_code_dropdown, text_calc_description]))"
   ]
  },
  {
   "cell_type": "code",
   "execution_count": null,
   "metadata": {},
   "outputs": [],
   "source": [
    "def on_submit():\n",
    "    with submit_out:\n",
    "        clear_output()\n",
    "        if not structure_selector.structure_node:\n",
    "            print(\"Please select a structure.\")\n",
    "            return\n",
    "        if not pw_code_dropdown.selected_code:\n",
    "            print(\"Please select a pw code.\")\n",
    "            return\n",
    "        if not pp_code_dropdown.selected_code:\n",
    "            print(\"Please select a pp code.\")\n",
    "            return\n",
    "        if not projwfc_code_dropdown.selected_code:\n",
    "            print(\"Please select a projwfc code.\")\n",
    "            return        \n",
    "        if len(text_calc_description.value) < 3:\n",
    "            print(\"Please enter a calculation name.\")\n",
    "            return\n",
    "\n",
    "        #pw_code, pp_code, projwfc_code = qe_code_groups[drop_codes.value]\n",
    "        builder = NanoribbonWorkChain.get_builder()\n",
    "        builder.pw_code = pw_code_dropdown.selected_code\n",
    "        builder.pp_code = pp_code_dropdown.selected_code\n",
    "        builder.projwfc_code = projwfc_code_dropdown.selected_code\n",
    "        builder.structure = structure_selector.structure_node\n",
    "        builder.precision = Float(1.0) #Float(slider_precision.value)\n",
    "        builder.pseudo_family = Str('TEST_PSEUDO') # Str('SSSP_precision_v1.0')\n",
    "        builder.metadata = {\n",
    "            \"description\": text_calc_description.value,\n",
    "            \"label\": \"NanoribbonWorkChain\",\n",
    "        }\n",
    "        return builder"
   ]
  },
  {
   "cell_type": "code",
   "execution_count": null,
   "metadata": {},
   "outputs": [],
   "source": [
    "btn_submit = SubmitButtonWidget(process=NanoribbonWorkChain,widgets_values=on_submit)\n",
    "submit_out = ipw.Output()\n",
    "display(btn_submit, submit_out)"
   ]
  }
 ],
 "metadata": {
  "kernelspec": {
   "display_name": "Python 3",
   "language": "python",
   "name": "python3"
  },
  "language_info": {
   "codemirror_mode": {
    "name": "ipython",
    "version": 3
   },
   "file_extension": ".py",
   "mimetype": "text/x-python",
   "name": "python",
   "nbconvert_exporter": "python",
   "pygments_lexer": "ipython3",
   "version": "3.7.4"
  }
 },
 "nbformat": 4,
 "nbformat_minor": 2
}
