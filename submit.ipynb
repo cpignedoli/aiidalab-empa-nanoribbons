{
 "cells": [
  {
   "cell_type": "markdown",
   "metadata": {},
   "source": [
    "# Submit Nanoribbon Workchain"
   ]
  },
  {
   "cell_type": "code",
   "execution_count": null,
   "metadata": {},
   "outputs": [],
   "source": [
    "%aiida"
   ]
  },
  {
   "cell_type": "code",
   "execution_count": null,
   "metadata": {},
   "outputs": [],
   "source": [
    "# General imports\n",
    "import numpy as np\n",
    "import ipywidgets as ipw\n",
    "from collections import OrderedDict\n",
    "from ase.data import vdw_radii\n",
    "from IPython.display import display, clear_output, HTML\n",
    "import itertools\n",
    "\n",
    "# AiiDA & AiiDA lab imports\n",
    "from aiida.engine import calcfunction\n",
    "from aiida.orm import SinglefileData\n",
    "from aiidalab_widgets_base.utils import string_range_to_set, set_to_string_range\n",
    "\n",
    "from nanoribbon.viewers import Smiles2GNRWidget\n",
    "from aiidalab_widgets_base import CodeDropdown, StructureManagerWidget, StructureBrowserWidget, StructureUploadWidget, SubmitButtonWidget, SmilesWidget\n",
    "from aiida.engine import submit\n",
    "\n",
    "# Work Chains\n",
    "NanoribbonWorkChain = WorkflowFactory('nanoribbon')"
   ]
  },
  {
   "cell_type": "code",
   "execution_count": null,
   "metadata": {},
   "outputs": [],
   "source": [
    "structure_selector = StructureManagerWidget(importers=[\n",
    "    (\"SMILES2GNR\", Smiles2GNRWidget()),\n",
    "    (\"Import from computer\", StructureUploadWidget()),\n",
    "    (\"AiiDA database\", StructureBrowserWidget()),\n",
    "    ],\n",
    "    storable=False,node_class='StructureData')\n",
    "display(structure_selector)"
   ]
  },
  {
   "cell_type": "code",
   "execution_count": null,
   "metadata": {},
   "outputs": [],
   "source": [
    "style = {'description_width': '120px'}\n",
    "layout = {'width': '70%'}\n",
    "\n",
    "pw_code_dropdown = CodeDropdown(input_plugin='quantumespresso.pw')\n",
    "pp_code_dropdown = CodeDropdown(input_plugin='quantumespresso.pp')\n",
    "projwfc_code_dropdown = CodeDropdown(input_plugin='quantumespresso.projwfc')\n",
    "\n",
    "text_calc_description = ipw.Text(description='Calculation Name: ',\n",
    "                          placeholder='A great name.',\n",
    "                          style=style, layout=layout)\n",
    "spin_d = ipw.Text(placeholder='1..10 15',\n",
    "                                    description='IDs atoms spin DOWN',\n",
    "                                    style=style, layout={'width': '60%'})\n",
    "spin_u = ipw.Text(placeholder='1..10 15',\n",
    "                                    description='IDs atoms spin DOWN',\n",
    "                                    style=style, layout={'width': '60%'})\n",
    "display(ipw.VBox([pw_code_dropdown,pp_code_dropdown,projwfc_code_dropdown, text_calc_description]))"
   ]
  },
  {
   "cell_type": "code",
   "execution_count": null,
   "metadata": {},
   "outputs": [],
   "source": [
    "## spin of structure in strcture browser\n",
    "def check_spins(atoms):\n",
    "    su=np.where(tags == 1)[0].tolist()\n",
    "    sd=np.where(tags == 2)[0].tolist()\n",
    "    su_str=set_to_string_range(su)\n",
    "    sd_str=set_to_string_range(sd)\n",
    "    #spin_d.value=sd_str\n",
    "    #spin_u.value=su_str\n",
    "    return su_str,sd_str\n",
    "\n",
    "\n",
    "@calcfunction\n",
    "def set_spins(atoms,su,sd,description):\n",
    "        \n",
    "    tags = np.zeros(len(atoms))\n",
    "    for u in  string_range_to_sets(su):\n",
    "        tags[u]=1\n",
    "    for d in  string_range_to_sets(sd):\n",
    "        tags[d]=2    \n",
    "\n",
    "    nu = len(string_range_to_sets(su))\n",
    "    nd = len(string_range_to_sets(sd))\n",
    "    if nu == 0 and nd  == 0:\n",
    "        add_name='no_spin'\n",
    "    else:\n",
    "        add_name = abs(nu - nd)\n",
    "        \n",
    "    atoms.set_tags(tags)\n",
    "\n",
    "    new_struct = StructureData(ase=atoms)\n",
    "    \n",
    "    # ensure that tags got correctly translated into kinds \n",
    "    for t1, k in zip(tags, new_struct.get_site_kindnames()):\n",
    "        t2 = int(k[-1]) if k[-1].isnumeric() else 0\n",
    "        assert t1==t2\n",
    "    \n",
    "    new_struct.store()\n",
    "    print(\"Stored in AiiDA: \"+repr(s))        \n",
    "        \n",
    "    return new_struct"
   ]
  },
  {
   "cell_type": "code",
   "execution_count": null,
   "metadata": {},
   "outputs": [],
   "source": [
    "def on_submit():    \n",
    "    ## CHECK spin consistency and create new structure in case mismatch\n",
    "    atoms = structure_selector.structure #ASE atoms\n",
    "    description = structure_selector.structure_node.descritption\n",
    "    ## spin from strucure browser\n",
    "    su_str, sd_str = check_spins(atoms)\n",
    "    ## spin in input widgets\n",
    "    input_su = set_to_string_range(string_range_to_sets(pin_u.value))\n",
    "    input_sd = set_to_string_range(string_range_to_set(spin_d.value))\n",
    "    spin_mismatch = (input_su != su_str and input_su != sd_str) or (input_sd != su_str and input_sd != sd_str)\n",
    "    if spin_mismatch :\n",
    "        node_to_submit = set_spins(atoms,input_su,input_sd,description)\n",
    "    else:\n",
    "        node_to_submit = structure_selector.structure_node\n",
    "        \n",
    "    with submit_out:\n",
    "        clear_output()\n",
    "        if not structure_selector.structure_node:\n",
    "            print(\"Please select a structure.\")\n",
    "            return\n",
    "        if not pw_code_dropdown.selected_code:\n",
    "            print(\"Please select a pw code.\")\n",
    "            return\n",
    "        if not pp_code_dropdown.selected_code:\n",
    "            print(\"Please select a pp code.\")\n",
    "            return\n",
    "        if not projwfc_code_dropdown.selected_code:\n",
    "            print(\"Please select a projwfc code.\")\n",
    "            return        \n",
    "        if len(text_calc_description.value) < 3:\n",
    "            print(\"Please enter a calculation name.\")\n",
    "            return\n",
    "\n",
    "        #pw_code, pp_code, projwfc_code = qe_code_groups[drop_codes.value]\n",
    "        builder = NanoribbonWorkChain.get_builder()\n",
    "        builder.pw_code = pw_code_dropdown.selected_code\n",
    "        builder.pp_code = pp_code_dropdown.selected_code\n",
    "        builder.projwfc_code = projwfc_code_dropdown.selected_code\n",
    "        builder.structure = node_to_submit\n",
    "        builder.precision = Float(1.0) #Float(slider_precision.value)\n",
    "        builder.pseudo_family = Str('TEST_PSEUDO') # Str('SSSP_precision_v1.0')\n",
    "        builder.metadata = {\n",
    "            \"description\": text_calc_description.value,\n",
    "            \"label\": \"NanoribbonWorkChain\",\n",
    "        }\n",
    "        return builder"
   ]
  },
  {
   "cell_type": "code",
   "execution_count": null,
   "metadata": {},
   "outputs": [],
   "source": [
    "btn_submit = SubmitButtonWidget(NanoribbonWorkChain,input_dictionary_function=on_submit)\n",
    "submit_out = ipw.Output()\n",
    "display(btn_submit, submit_out)"
   ]
  }
 ],
 "metadata": {
  "kernelspec": {
   "display_name": "Python 3",
   "language": "python",
   "name": "python3"
  },
  "language_info": {
   "codemirror_mode": {
    "name": "ipython",
    "version": 3
   },
   "file_extension": ".py",
   "mimetype": "text/x-python",
   "name": "python",
   "nbconvert_exporter": "python",
   "pygments_lexer": "ipython3",
   "version": "3.7.4"
  }
 },
 "nbformat": 4,
 "nbformat_minor": 2
}
